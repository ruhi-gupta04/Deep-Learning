{
  "nbformat": 4,
  "nbformat_minor": 0,
  "metadata": {
    "colab": {
      "name": "LSTM Google Stock Price.ipynb",
      "provenance": [],
      "collapsed_sections": []
    },
    "kernelspec": {
      "name": "python3",
      "display_name": "Python 3"
    },
    "accelerator": "GPU"
  },
  "cells": [
    {
      "cell_type": "code",
      "metadata": {
        "id": "LNohj194VARk",
        "colab_type": "code",
        "colab": {}
      },
      "source": [
        "#Data preprocessing\n",
        "import numpy as np\n",
        "import matplotlib.pyplot as plt\n",
        "import pandas as pd"
      ],
      "execution_count": 0,
      "outputs": []
    },
    {
      "cell_type": "code",
      "metadata": {
        "id": "ECs-1s_n2i8j",
        "colab_type": "code",
        "colab": {}
      },
      "source": [
        "df_train=pd.read_csv(\"Google_Stock_Price_Train.csv\")"
      ],
      "execution_count": 0,
      "outputs": []
    },
    {
      "cell_type": "code",
      "metadata": {
        "id": "8rLIybwK2jF3",
        "colab_type": "code",
        "colab": {}
      },
      "source": [
        "#selecting the CLOSE column\n",
        "train_set=df_train.iloc[:,1:2].values"
      ],
      "execution_count": 0,
      "outputs": []
    },
    {
      "cell_type": "code",
      "metadata": {
        "id": "IqO-j0kJ33pC",
        "colab_type": "code",
        "colab": {
          "base_uri": "https://localhost:8080/",
          "height": 134
        },
        "outputId": "82e03c2d-1ca5-4058-d088-191910565f0a"
      },
      "source": [
        "train_set"
      ],
      "execution_count": 39,
      "outputs": [
        {
          "output_type": "execute_result",
          "data": {
            "text/plain": [
              "array([[325.25],\n",
              "       [331.27],\n",
              "       [329.83],\n",
              "       ...,\n",
              "       [793.7 ],\n",
              "       [783.33],\n",
              "       [782.75]])"
            ]
          },
          "metadata": {
            "tags": []
          },
          "execution_count": 39
        }
      ]
    },
    {
      "cell_type": "code",
      "metadata": {
        "id": "Ih4RRlgg33xb",
        "colab_type": "code",
        "colab": {}
      },
      "source": [
        "#Feature scaling\n",
        "from sklearn.preprocessing import MinMaxScaler\n",
        "sc=MinMaxScaler()\n",
        "train_set_scaled=sc.fit_transform(train_set)"
      ],
      "execution_count": 0,
      "outputs": []
    },
    {
      "cell_type": "code",
      "metadata": {
        "id": "83TJ9r5B33z5",
        "colab_type": "code",
        "colab": {
          "base_uri": "https://localhost:8080/",
          "height": 134
        },
        "outputId": "88274bbf-a45c-4220-e3ee-552356f78906"
      },
      "source": [
        "train_set_scaled"
      ],
      "execution_count": 41,
      "outputs": [
        {
          "output_type": "execute_result",
          "data": {
            "text/plain": [
              "array([[0.08581368],\n",
              "       [0.09701243],\n",
              "       [0.09433366],\n",
              "       ...,\n",
              "       [0.95725128],\n",
              "       [0.93796041],\n",
              "       [0.93688146]])"
            ]
          },
          "metadata": {
            "tags": []
          },
          "execution_count": 41
        }
      ]
    },
    {
      "cell_type": "code",
      "metadata": {
        "id": "vTt9OYlg332v",
        "colab_type": "code",
        "colab": {}
      },
      "source": [
        "#Number of timesteps - 60 timessteps. \n",
        "#i.e at to predict stock price at timestep T+1 we have to look back at T to T-60 days stock price \n",
        "\n",
        "x_train=[] #contain previous 60days stock price\n",
        "y_train=[] #contain next day stock price\n",
        "for i in range(60,1258):  # one can begin from the 60th stock price till the total rows\n",
        "   x_train.append(train_set_scaled[i-60:i,0]) #storing the 60 previous stock prices in x_train (first iteration : 0 to 59)\n",
        "   y_train.append(train_set_scaled[i,0])\n",
        "x_train,y_train=np.array(x_train),np.array(y_train)"
      ],
      "execution_count": 0,
      "outputs": []
    },
    {
      "cell_type": "code",
      "metadata": {
        "id": "ib5B3xJC335H",
        "colab_type": "code",
        "colab": {
          "base_uri": "https://localhost:8080/",
          "height": 235
        },
        "outputId": "be97c8f8-3736-451d-daae-95462d965fbd"
      },
      "source": [
        "x_train\n",
        "#first row is for predicting stock price at T=60\n",
        "#second row is for predicting stock price at T=61 and so on\n",
        "#There are total 60columns (0--59) "
      ],
      "execution_count": 43,
      "outputs": [
        {
          "output_type": "execute_result",
          "data": {
            "text/plain": [
              "array([[0.08581368, 0.09701243, 0.09433366, ..., 0.07846566, 0.08034452,\n",
              "        0.08497656],\n",
              "       [0.09701243, 0.09433366, 0.09156187, ..., 0.08034452, 0.08497656,\n",
              "        0.08627874],\n",
              "       [0.09433366, 0.09156187, 0.07984225, ..., 0.08497656, 0.08627874,\n",
              "        0.08471612],\n",
              "       ...,\n",
              "       [0.92106928, 0.92438053, 0.93048218, ..., 0.95475854, 0.95204256,\n",
              "        0.95163331],\n",
              "       [0.92438053, 0.93048218, 0.9299055 , ..., 0.95204256, 0.95163331,\n",
              "        0.95725128],\n",
              "       [0.93048218, 0.9299055 , 0.93113327, ..., 0.95163331, 0.95725128,\n",
              "        0.93796041]])"
            ]
          },
          "metadata": {
            "tags": []
          },
          "execution_count": 43
        }
      ]
    },
    {
      "cell_type": "code",
      "metadata": {
        "id": "RfHp_6FO_06j",
        "colab_type": "code",
        "colab": {
          "base_uri": "https://localhost:8080/",
          "height": 50
        },
        "outputId": "8b4c0e9d-575b-43c5-eb04-50130c5bb96e"
      },
      "source": [
        "y_train\n",
        "#first row is the stock price at T=60\n",
        "#second row is the stock price at T=61 and so on"
      ],
      "execution_count": 44,
      "outputs": [
        {
          "output_type": "execute_result",
          "data": {
            "text/plain": [
              "array([0.08627874, 0.08471612, 0.07454052, ..., 0.95725128, 0.93796041,\n",
              "       0.93688146])"
            ]
          },
          "metadata": {
            "tags": []
          },
          "execution_count": 44
        }
      ]
    },
    {
      "cell_type": "code",
      "metadata": {
        "id": "q0sgs7rpAJmI",
        "colab_type": "code",
        "colab": {}
      },
      "source": [
        "#Reshaping data --> helps adds indicators which you think helps predict even better the trends of Google stock price\n",
        "#x_train=np.reshape(x_train,(no.of observations, no.of timesteps, no.of indicators))\n",
        "x_train=np.reshape(x_train,(x_train.shape[0], x_train.shape[1],1))"
      ],
      "execution_count": 0,
      "outputs": []
    },
    {
      "cell_type": "code",
      "metadata": {
        "id": "76_2wLTOAJhV",
        "colab_type": "code",
        "colab": {}
      },
      "source": [
        "#Building the LSTM\n",
        "from keras.models import Sequential\n",
        "from keras.layers import Dense\n",
        "from keras.layers import LSTM\n",
        "from keras.layers import Dropout"
      ],
      "execution_count": 0,
      "outputs": []
    },
    {
      "cell_type": "code",
      "metadata": {
        "id": "1YJ4Edp4AJcq",
        "colab_type": "code",
        "colab": {}
      },
      "source": [
        "#Initializing\n",
        "regressor=Sequential()"
      ],
      "execution_count": 0,
      "outputs": []
    },
    {
      "cell_type": "code",
      "metadata": {
        "id": "cdsHVrec2jFI",
        "colab_type": "code",
        "colab": {}
      },
      "source": [
        "#Adding first LSTM layer with some dropout regularization\n",
        "#units=50 for high dimentionality\n",
        "#return_sequence=True if you have another LSTM layer following this layer\n",
        "regressor.add(LSTM(units=50, return_sequences=True, input_shape = (x_train.shape[1],1) ))\n",
        "regressor.add(Dropout(rate=0.2))"
      ],
      "execution_count": 0,
      "outputs": []
    },
    {
      "cell_type": "code",
      "metadata": {
        "id": "rHQJa3MT2jAU",
        "colab_type": "code",
        "colab": {}
      },
      "source": [
        "#Adding second LSTM layer with some dropout regularization\n",
        "regressor.add(LSTM(units=50, return_sequences=True))\n",
        "regressor.add(Dropout(rate=0.2))"
      ],
      "execution_count": 0,
      "outputs": []
    },
    {
      "cell_type": "code",
      "metadata": {
        "id": "EYsFiUgORPYN",
        "colab_type": "code",
        "colab": {}
      },
      "source": [
        "#Adding third LSTM layer with some dropout regularization\n",
        "regressor.add(LSTM(units=50, return_sequences=True))\n",
        "regressor.add(Dropout(rate=0.2))"
      ],
      "execution_count": 0,
      "outputs": []
    },
    {
      "cell_type": "code",
      "metadata": {
        "id": "x-2zm2a0RPcC",
        "colab_type": "code",
        "colab": {}
      },
      "source": [
        "#Adding fourth LSTM layer with some dropout regularization\n",
        "#return_sequence=False as there are no more LSTM layer following this layer\n",
        "regressor.add(LSTM(units=50))\n",
        "regressor.add(Dropout(rate=0.2))"
      ],
      "execution_count": 0,
      "outputs": []
    },
    {
      "cell_type": "code",
      "metadata": {
        "id": "HpcYsJtZRzXR",
        "colab_type": "code",
        "colab": {}
      },
      "source": [
        "#Output Layer\n",
        "#units = Dimension if the output layer\n",
        "regressor.add(Dense(units=1))"
      ],
      "execution_count": 0,
      "outputs": []
    },
    {
      "cell_type": "code",
      "metadata": {
        "id": "kNgAQlUJSiN5",
        "colab_type": "code",
        "colab": {}
      },
      "source": [
        "#Compliling the model\n",
        "regressor.compile(optimizer=\"adam\", loss=\"mean_squared_error\")"
      ],
      "execution_count": 0,
      "outputs": []
    },
    {
      "cell_type": "code",
      "metadata": {
        "id": "Sfs3xRT2VAes",
        "colab_type": "code",
        "colab": {
          "base_uri": "https://localhost:8080/",
          "height": 1000
        },
        "outputId": "82139c2e-514c-4c03-f226-00a8ded87780"
      },
      "source": [
        "regressor.fit(x_train,y_train,epochs=100,batch_size=32)"
      ],
      "execution_count": 54,
      "outputs": [
        {
          "output_type": "stream",
          "text": [
            "Epoch 1/100\n",
            "1198/1198 [==============================] - 24s 20ms/step - loss: 0.0539\n",
            "Epoch 2/100\n",
            "1198/1198 [==============================] - 20s 17ms/step - loss: 0.0063\n",
            "Epoch 3/100\n",
            "1198/1198 [==============================] - 20s 17ms/step - loss: 0.0057\n",
            "Epoch 4/100\n",
            "1198/1198 [==============================] - 20s 16ms/step - loss: 0.0053\n",
            "Epoch 5/100\n",
            "1198/1198 [==============================] - 20s 16ms/step - loss: 0.0054\n",
            "Epoch 6/100\n",
            "1198/1198 [==============================] - 20s 16ms/step - loss: 0.0052\n",
            "Epoch 7/100\n",
            "1198/1198 [==============================] - 20s 17ms/step - loss: 0.0047\n",
            "Epoch 8/100\n",
            "1198/1198 [==============================] - 20s 16ms/step - loss: 0.0049\n",
            "Epoch 9/100\n",
            "1198/1198 [==============================] - 20s 16ms/step - loss: 0.0048\n",
            "Epoch 10/100\n",
            "1198/1198 [==============================] - 20s 16ms/step - loss: 0.0042\n",
            "Epoch 11/100\n",
            "1198/1198 [==============================] - 20s 16ms/step - loss: 0.0044\n",
            "Epoch 12/100\n",
            "1198/1198 [==============================] - 19s 16ms/step - loss: 0.0042\n",
            "Epoch 13/100\n",
            "1198/1198 [==============================] - 20s 16ms/step - loss: 0.0043\n",
            "Epoch 14/100\n",
            "1198/1198 [==============================] - 20s 16ms/step - loss: 0.0042\n",
            "Epoch 15/100\n",
            "1198/1198 [==============================] - 20s 16ms/step - loss: 0.0052\n",
            "Epoch 16/100\n",
            "1198/1198 [==============================] - 20s 16ms/step - loss: 0.0037\n",
            "Epoch 17/100\n",
            "1198/1198 [==============================] - 20s 16ms/step - loss: 0.0036\n",
            "Epoch 18/100\n",
            "1198/1198 [==============================] - 19s 16ms/step - loss: 0.0038\n",
            "Epoch 19/100\n",
            "1198/1198 [==============================] - 19s 16ms/step - loss: 0.0036\n",
            "Epoch 20/100\n",
            "1198/1198 [==============================] - 19s 16ms/step - loss: 0.0035\n",
            "Epoch 21/100\n",
            "1198/1198 [==============================] - 19s 16ms/step - loss: 0.0033\n",
            "Epoch 22/100\n",
            "1198/1198 [==============================] - 19s 16ms/step - loss: 0.0033\n",
            "Epoch 23/100\n",
            "1198/1198 [==============================] - 20s 16ms/step - loss: 0.0030\n",
            "Epoch 24/100\n",
            "1198/1198 [==============================] - 19s 16ms/step - loss: 0.0032\n",
            "Epoch 25/100\n",
            "1198/1198 [==============================] - 20s 16ms/step - loss: 0.0031\n",
            "Epoch 26/100\n",
            "1198/1198 [==============================] - 20s 16ms/step - loss: 0.0031\n",
            "Epoch 27/100\n",
            "1198/1198 [==============================] - 20s 16ms/step - loss: 0.0030\n",
            "Epoch 28/100\n",
            "1198/1198 [==============================] - 20s 17ms/step - loss: 0.0031\n",
            "Epoch 29/100\n",
            "1198/1198 [==============================] - 20s 16ms/step - loss: 0.0029\n",
            "Epoch 30/100\n",
            "1198/1198 [==============================] - 20s 16ms/step - loss: 0.0033\n",
            "Epoch 31/100\n",
            "1198/1198 [==============================] - 20s 17ms/step - loss: 0.0033\n",
            "Epoch 32/100\n",
            "1198/1198 [==============================] - 20s 16ms/step - loss: 0.0027\n",
            "Epoch 33/100\n",
            "1198/1198 [==============================] - 20s 16ms/step - loss: 0.0028\n",
            "Epoch 34/100\n",
            "1198/1198 [==============================] - 19s 16ms/step - loss: 0.0035\n",
            "Epoch 35/100\n",
            "1198/1198 [==============================] - 19s 16ms/step - loss: 0.0029\n",
            "Epoch 36/100\n",
            "1198/1198 [==============================] - 20s 16ms/step - loss: 0.0026\n",
            "Epoch 37/100\n",
            "1198/1198 [==============================] - 20s 16ms/step - loss: 0.0029\n",
            "Epoch 38/100\n",
            "1198/1198 [==============================] - 19s 16ms/step - loss: 0.0030\n",
            "Epoch 39/100\n",
            "1198/1198 [==============================] - 19s 16ms/step - loss: 0.0026\n",
            "Epoch 40/100\n",
            "1198/1198 [==============================] - 19s 16ms/step - loss: 0.0027\n",
            "Epoch 41/100\n",
            "1198/1198 [==============================] - 19s 16ms/step - loss: 0.0022\n",
            "Epoch 42/100\n",
            "1198/1198 [==============================] - 20s 16ms/step - loss: 0.0025\n",
            "Epoch 43/100\n",
            "1198/1198 [==============================] - 19s 16ms/step - loss: 0.0024\n",
            "Epoch 44/100\n",
            "1198/1198 [==============================] - 20s 16ms/step - loss: 0.0026\n",
            "Epoch 45/100\n",
            "1198/1198 [==============================] - 19s 16ms/step - loss: 0.0027\n",
            "Epoch 46/100\n",
            "1198/1198 [==============================] - 19s 16ms/step - loss: 0.0024\n",
            "Epoch 47/100\n",
            "1198/1198 [==============================] - 19s 16ms/step - loss: 0.0023\n",
            "Epoch 48/100\n",
            "1198/1198 [==============================] - 20s 16ms/step - loss: 0.0023\n",
            "Epoch 49/100\n",
            "1198/1198 [==============================] - 19s 16ms/step - loss: 0.0028\n",
            "Epoch 50/100\n",
            "1198/1198 [==============================] - 19s 16ms/step - loss: 0.0028\n",
            "Epoch 51/100\n",
            "1198/1198 [==============================] - 19s 16ms/step - loss: 0.0023\n",
            "Epoch 52/100\n",
            "1198/1198 [==============================] - 19s 16ms/step - loss: 0.0023\n",
            "Epoch 53/100\n",
            "1198/1198 [==============================] - 19s 16ms/step - loss: 0.0022\n",
            "Epoch 54/100\n",
            "1198/1198 [==============================] - 20s 16ms/step - loss: 0.0021\n",
            "Epoch 55/100\n",
            "1198/1198 [==============================] - 19s 16ms/step - loss: 0.0019\n",
            "Epoch 56/100\n",
            "1198/1198 [==============================] - 20s 16ms/step - loss: 0.0019\n",
            "Epoch 57/100\n",
            "1198/1198 [==============================] - 19s 16ms/step - loss: 0.0021\n",
            "Epoch 58/100\n",
            "1198/1198 [==============================] - 20s 16ms/step - loss: 0.0020\n",
            "Epoch 59/100\n",
            "1198/1198 [==============================] - 19s 16ms/step - loss: 0.0020\n",
            "Epoch 60/100\n",
            "1198/1198 [==============================] - 20s 16ms/step - loss: 0.0022\n",
            "Epoch 61/100\n",
            "1198/1198 [==============================] - 20s 16ms/step - loss: 0.0020\n",
            "Epoch 62/100\n",
            "1198/1198 [==============================] - 20s 16ms/step - loss: 0.0019\n",
            "Epoch 63/100\n",
            "1198/1198 [==============================] - 20s 16ms/step - loss: 0.0017\n",
            "Epoch 64/100\n",
            "1198/1198 [==============================] - 20s 16ms/step - loss: 0.0019\n",
            "Epoch 65/100\n",
            "1198/1198 [==============================] - 19s 16ms/step - loss: 0.0018\n",
            "Epoch 66/100\n",
            "1198/1198 [==============================] - 19s 16ms/step - loss: 0.0020\n",
            "Epoch 67/100\n",
            "1198/1198 [==============================] - 19s 16ms/step - loss: 0.0016\n",
            "Epoch 68/100\n",
            "1198/1198 [==============================] - 19s 16ms/step - loss: 0.0019\n",
            "Epoch 69/100\n",
            "1198/1198 [==============================] - 19s 16ms/step - loss: 0.0018\n",
            "Epoch 70/100\n",
            "1198/1198 [==============================] - 20s 16ms/step - loss: 0.0019\n",
            "Epoch 71/100\n",
            "1198/1198 [==============================] - 19s 16ms/step - loss: 0.0017\n",
            "Epoch 72/100\n",
            "1198/1198 [==============================] - 19s 16ms/step - loss: 0.0017\n",
            "Epoch 73/100\n",
            "1198/1198 [==============================] - 19s 16ms/step - loss: 0.0015\n",
            "Epoch 74/100\n",
            "1198/1198 [==============================] - 20s 16ms/step - loss: 0.0017\n",
            "Epoch 75/100\n",
            "1198/1198 [==============================] - 20s 16ms/step - loss: 0.0016\n",
            "Epoch 76/100\n",
            "1198/1198 [==============================] - 20s 16ms/step - loss: 0.0018\n",
            "Epoch 77/100\n",
            "1198/1198 [==============================] - 20s 17ms/step - loss: 0.0018\n",
            "Epoch 78/100\n",
            "1198/1198 [==============================] - 20s 16ms/step - loss: 0.0019\n",
            "Epoch 79/100\n",
            "1198/1198 [==============================] - 20s 16ms/step - loss: 0.0024\n",
            "Epoch 80/100\n",
            "1198/1198 [==============================] - 20s 17ms/step - loss: 0.0016\n",
            "Epoch 81/100\n",
            "1198/1198 [==============================] - 19s 16ms/step - loss: 0.0015\n",
            "Epoch 82/100\n",
            "1198/1198 [==============================] - 20s 16ms/step - loss: 0.0016\n",
            "Epoch 83/100\n",
            "1198/1198 [==============================] - 19s 16ms/step - loss: 0.0016\n",
            "Epoch 84/100\n",
            "1198/1198 [==============================] - 19s 16ms/step - loss: 0.0017\n",
            "Epoch 85/100\n",
            "1198/1198 [==============================] - 19s 16ms/step - loss: 0.0017\n",
            "Epoch 86/100\n",
            "1198/1198 [==============================] - 20s 16ms/step - loss: 0.0016\n",
            "Epoch 87/100\n",
            "1198/1198 [==============================] - 19s 16ms/step - loss: 0.0017\n",
            "Epoch 88/100\n",
            "1198/1198 [==============================] - 20s 16ms/step - loss: 0.0015\n",
            "Epoch 89/100\n",
            "1198/1198 [==============================] - 20s 16ms/step - loss: 0.0014\n",
            "Epoch 90/100\n",
            "1198/1198 [==============================] - 20s 16ms/step - loss: 0.0018\n",
            "Epoch 91/100\n",
            "1198/1198 [==============================] - 20s 16ms/step - loss: 0.0020\n",
            "Epoch 92/100\n",
            "1198/1198 [==============================] - 19s 16ms/step - loss: 0.0015\n",
            "Epoch 93/100\n",
            "1198/1198 [==============================] - 20s 16ms/step - loss: 0.0015\n",
            "Epoch 94/100\n",
            "1198/1198 [==============================] - 20s 16ms/step - loss: 0.0014\n",
            "Epoch 95/100\n",
            "1198/1198 [==============================] - 20s 16ms/step - loss: 0.0014\n",
            "Epoch 96/100\n",
            "1198/1198 [==============================] - 20s 17ms/step - loss: 0.0014\n",
            "Epoch 97/100\n",
            "1198/1198 [==============================] - 20s 16ms/step - loss: 0.0013\n",
            "Epoch 98/100\n",
            "1198/1198 [==============================] - 20s 16ms/step - loss: 0.0015\n",
            "Epoch 99/100\n",
            "1198/1198 [==============================] - 20s 16ms/step - loss: 0.0013\n",
            "Epoch 100/100\n",
            "1198/1198 [==============================] - 20s 16ms/step - loss: 0.0013\n"
          ],
          "name": "stdout"
        },
        {
          "output_type": "execute_result",
          "data": {
            "text/plain": [
              "<keras.callbacks.History at 0x7f195b97a6d8>"
            ]
          },
          "metadata": {
            "tags": []
          },
          "execution_count": 54
        }
      ]
    },
    {
      "cell_type": "code",
      "metadata": {
        "id": "pfOrlGblWKNH",
        "colab_type": "code",
        "colab": {}
      },
      "source": [
        "#Making predictions\n",
        "df_test=pd.read_csv(\"Google_Stock_Price_Test.csv\")\n",
        "test_set=df_test.iloc[:,1:2].values"
      ],
      "execution_count": 0,
      "outputs": []
    },
    {
      "cell_type": "code",
      "metadata": {
        "id": "LJ4EAMt0YL8E",
        "colab_type": "code",
        "colab": {}
      },
      "source": [
        "dataset_total=pd.concat((df_train[\"Open\"],df_test[\"Open\"]),axis=0)\n",
        "inputs=dataset_total[len(dataset_total)-len(df_test)-60:].values"
      ],
      "execution_count": 0,
      "outputs": []
    },
    {
      "cell_type": "code",
      "metadata": {
        "id": "-XST5p5leqFU",
        "colab_type": "code",
        "colab": {}
      },
      "source": [
        "inputs=inputs.reshape(-1,1)"
      ],
      "execution_count": 0,
      "outputs": []
    },
    {
      "cell_type": "code",
      "metadata": {
        "id": "33UyqU7Ge3CR",
        "colab_type": "code",
        "colab": {}
      },
      "source": [
        "inputs_scaled=sc.transform(inputs)"
      ],
      "execution_count": 0,
      "outputs": []
    },
    {
      "cell_type": "code",
      "metadata": {
        "id": "TR_bBbY_fG6t",
        "colab_type": "code",
        "colab": {}
      },
      "source": [
        "x_test=[] \n",
        "for i in range(60,80):  # 80 because 60(previous 2016 data)+20(test set data for 20days)\n",
        "   x_test.append(inputs_scaled[i-60:i,0])\n",
        "x_test=np.array(x_test)\n",
        "x_test=np.reshape(x_test,(x_test.shape[0], x_test.shape[1],1))"
      ],
      "execution_count": 0,
      "outputs": []
    },
    {
      "cell_type": "code",
      "metadata": {
        "id": "BBXvV81ngf7y",
        "colab_type": "code",
        "colab": {}
      },
      "source": [
        "y_pred=regressor.predict(x_test)\n",
        "y_pred=sc.inverse_transform(y_pred)"
      ],
      "execution_count": 0,
      "outputs": []
    },
    {
      "cell_type": "code",
      "metadata": {
        "id": "BTVCSLVOg7mP",
        "colab_type": "code",
        "colab": {
          "base_uri": "https://localhost:8080/",
          "height": 295
        },
        "outputId": "f75f9c2e-38bb-4418-c963-96decc688ab7"
      },
      "source": [
        "#plotting\n",
        "plt.plot(test_set,color=\"red\",label=\"Real Google Stock Price(Jan 2017)\")\n",
        "plt.plot(y_pred,color=\"blue\",label=\"Predicted Google Stock Price(Jan 2017)\")\n",
        "plt.title(\"Google Stock Price Prediction\")\n",
        "plt.xlabel(\"Time\")\n",
        "plt.ylabel(\"Open\")\n",
        "plt.legend()\n",
        "plt.show()"
      ],
      "execution_count": 71,
      "outputs": [
        {
          "output_type": "display_data",
          "data": {
            "image/png": "[encoded data removed]",
            "text/plain": [
              "<Figure size 432x288 with 1 Axes>"
            ]
          },
          "metadata": {
            "tags": []
          }
        }
      ]
    },
    {
      "cell_type": "code",
      "metadata": {
        "id": "mHvwC9AAiMY8",
        "colab_type": "code",
        "colab": {}
      },
      "source": [
        ""
      ],
      "execution_count": 0,
      "outputs": []
    }
  ]
}