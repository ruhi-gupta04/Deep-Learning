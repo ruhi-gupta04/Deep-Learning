{
 "cells": [
  {
   "cell_type": "code",
   "execution_count": 2,
   "metadata": {},
   "outputs": [],
   "source": [
    "import numpy as np\n",
    "import pandas as pd"
   ]
  },
  {
   "cell_type": "code",
   "execution_count": 3,
   "metadata": {},
   "outputs": [],
   "source": [
    "df=pd.read_csv(\"UCI_Credit_Card.csv\")"
   ]
  },
  {
   "cell_type": "code",
   "execution_count": 4,
   "metadata": {},
   "outputs": [
    {
     "data": {
      "text/plain": [
       "(30000, 25)"
      ]
     },
     "execution_count": 4,
     "metadata": {},
     "output_type": "execute_result"
    }
   ],
   "source": [
    "df.shape"
   ]
  },
  {
   "cell_type": "code",
   "execution_count": 5,
   "metadata": {},
   "outputs": [],
   "source": [
    "df=df.drop([\"ID\"],axis=1)"
   ]
  },
  {
   "cell_type": "code",
   "execution_count": 6,
   "metadata": {},
   "outputs": [
    {
     "data": {
      "text/plain": [
       "LIMIT_BAL                     0\n",
       "SEX                           0\n",
       "EDUCATION                     0\n",
       "MARRIAGE                      0\n",
       "AGE                           0\n",
       "PAY_0                         0\n",
       "PAY_2                         0\n",
       "PAY_3                         0\n",
       "PAY_4                         0\n",
       "PAY_5                         0\n",
       "PAY_6                         0\n",
       "BILL_AMT1                     0\n",
       "BILL_AMT2                     0\n",
       "BILL_AMT3                     0\n",
       "BILL_AMT4                     0\n",
       "BILL_AMT5                     0\n",
       "BILL_AMT6                     0\n",
       "PAY_AMT1                      0\n",
       "PAY_AMT2                      0\n",
       "PAY_AMT3                      0\n",
       "PAY_AMT4                      0\n",
       "PAY_AMT5                      0\n",
       "PAY_AMT6                      0\n",
       "default.payment.next.month    0\n",
       "dtype: int64"
      ]
     },
     "execution_count": 6,
     "metadata": {},
     "output_type": "execute_result"
    }
   ],
   "source": [
    "df.isnull().sum()"
   ]
  },
  {
   "cell_type": "code",
   "execution_count": 7,
   "metadata": {},
   "outputs": [
    {
     "data": {
      "text/plain": [
       "2    14030\n",
       "1    10585\n",
       "3     4917\n",
       "5      280\n",
       "4      123\n",
       "6       51\n",
       "0       14\n",
       "Name: EDUCATION, dtype: int64"
      ]
     },
     "execution_count": 7,
     "metadata": {},
     "output_type": "execute_result"
    }
   ],
   "source": [
    "df[\"EDUCATION\"].value_counts()"
   ]
  },
  {
   "cell_type": "code",
   "execution_count": 8,
   "metadata": {},
   "outputs": [
    {
     "data": {
      "text/plain": [
       " 0    14737\n",
       "-1     5686\n",
       " 1     3688\n",
       "-2     2759\n",
       " 2     2667\n",
       " 3      322\n",
       " 4       76\n",
       " 5       26\n",
       " 8       19\n",
       " 6       11\n",
       " 7        9\n",
       "Name: PAY_0, dtype: int64"
      ]
     },
     "execution_count": 8,
     "metadata": {},
     "output_type": "execute_result"
    }
   ],
   "source": [
    "df[\"PAY_0\"].value_counts()"
   ]
  },
  {
   "cell_type": "code",
   "execution_count": 9,
   "metadata": {},
   "outputs": [
    {
     "data": {
      "text/plain": [
       " 0.0         2008\n",
       " 390.0        244\n",
       " 780.0         76\n",
       " 326.0         72\n",
       " 316.0         63\n",
       " 2500.0        59\n",
       " 396.0         49\n",
       " 2400.0        39\n",
       " 416.0         29\n",
       " 1050.0        25\n",
       " 500.0         25\n",
       " 1473.0        24\n",
       "-200.0         22\n",
       " 1261.0        22\n",
       "-5.0           22\n",
       " 836.0         21\n",
       " 264.0         20\n",
       " 291.0         19\n",
       "-3.0           19\n",
       " 600.0         18\n",
       " 360.0         17\n",
       "-2.0           17\n",
       " 1000.0        16\n",
       "-4.0           16\n",
       "-1.0           16\n",
       " 325.0         14\n",
       " 200.0         14\n",
       " 150.0         14\n",
       " 300.0         14\n",
       "-18.0          13\n",
       "             ... \n",
       " 142389.0       1\n",
       " 101347.0       1\n",
       "-1651.0         1\n",
       " 222505.0       1\n",
       " 68452.0        1\n",
       " 40229.0        1\n",
       " 46980.0        1\n",
       " 242837.0       1\n",
       " 151009.0       1\n",
       " 26135.0        1\n",
       " 43068.0        1\n",
       "-366.0          1\n",
       " 33794.0        1\n",
       " 19481.0        1\n",
       " 31377.0        1\n",
       " 23704.0        1\n",
       " 21302.0        1\n",
       " 420115.0       1\n",
       " 136330.0       1\n",
       " 11805.0        1\n",
       " 43757.0        1\n",
       " 73215.0        1\n",
       " 27314.0        1\n",
       " 239715.0       1\n",
       " 105406.0       1\n",
       " 52515.0        1\n",
       " 7691.0         1\n",
       " 10183.0        1\n",
       " 144525.0       1\n",
       " 79900.0        1\n",
       "Name: BILL_AMT1, Length: 22723, dtype: int64"
      ]
     },
     "execution_count": 9,
     "metadata": {},
     "output_type": "execute_result"
    }
   ],
   "source": [
    "df[\"BILL_AMT1\"].value_counts()"
   ]
  },
  {
   "cell_type": "code",
   "execution_count": 10,
   "metadata": {},
   "outputs": [
    {
     "data": {
      "text/plain": [
       "0.0         5249\n",
       "2000.0      1363\n",
       "3000.0       891\n",
       "5000.0       698\n",
       "1500.0       507\n",
       "4000.0       426\n",
       "10000.0      401\n",
       "1000.0       365\n",
       "2500.0       298\n",
       "6000.0       294\n",
       "390.0        207\n",
       "7000.0       195\n",
       "3500.0       185\n",
       "1300.0       184\n",
       "8000.0       176\n",
       "1600.0       174\n",
       "1800.0       167\n",
       "1700.0       157\n",
       "1200.0       136\n",
       "2100.0       129\n",
       "4500.0       108\n",
       "2200.0       108\n",
       "1400.0        97\n",
       "15000.0       97\n",
       "3200.0        84\n",
       "9000.0        80\n",
       "20000.0       80\n",
       "2300.0        70\n",
       "6500.0        70\n",
       "11000.0       68\n",
       "            ... \n",
       "11450.0        1\n",
       "302000.0       1\n",
       "16140.0        1\n",
       "3099.0         1\n",
       "67568.0        1\n",
       "13636.0        1\n",
       "35703.0        1\n",
       "13300.0        1\n",
       "53400.0        1\n",
       "32543.0        1\n",
       "13002.0        1\n",
       "5346.0         1\n",
       "52082.0        1\n",
       "100066.0       1\n",
       "3170.0         1\n",
       "10952.0        1\n",
       "35176.0        1\n",
       "6307.0         1\n",
       "36066.0        1\n",
       "9454.0         1\n",
       "3127.0         1\n",
       "68738.0        1\n",
       "1112.0         1\n",
       "261.0          1\n",
       "13088.0        1\n",
       "354.0          1\n",
       "639.0          1\n",
       "397.0          1\n",
       "1113.0         1\n",
       "11783.0        1\n",
       "Name: PAY_AMT1, Length: 7943, dtype: int64"
      ]
     },
     "execution_count": 10,
     "metadata": {},
     "output_type": "execute_result"
    }
   ],
   "source": [
    "df[\"PAY_AMT1\"].value_counts()"
   ]
  },
  {
   "cell_type": "code",
   "execution_count": 11,
   "metadata": {},
   "outputs": [
    {
     "data": {
      "text/plain": [
       "2    18112\n",
       "1    11888\n",
       "Name: SEX, dtype: int64"
      ]
     },
     "execution_count": 11,
     "metadata": {},
     "output_type": "execute_result"
    }
   ],
   "source": [
    "df[\"SEX\"].value_counts()"
   ]
  },
  {
   "cell_type": "code",
   "execution_count": 12,
   "metadata": {},
   "outputs": [
    {
     "data": {
      "text/plain": [
       "2    15964\n",
       "1    13659\n",
       "3      323\n",
       "0       54\n",
       "Name: MARRIAGE, dtype: int64"
      ]
     },
     "execution_count": 12,
     "metadata": {},
     "output_type": "execute_result"
    }
   ],
   "source": [
    "df[\"MARRIAGE\"].value_counts()"
   ]
  },
  {
   "cell_type": "code",
   "execution_count": 13,
   "metadata": {},
   "outputs": [
    {
     "data": {
      "text/plain": [
       "(30000, 24)"
      ]
     },
     "execution_count": 13,
     "metadata": {},
     "output_type": "execute_result"
    }
   ],
   "source": [
    "df.shape"
   ]
  },
  {
   "cell_type": "code",
   "execution_count": 14,
   "metadata": {},
   "outputs": [],
   "source": [
    "df.query('MARRIAGE!=0',inplace = True)"
   ]
  },
  {
   "cell_type": "code",
   "execution_count": 15,
   "metadata": {},
   "outputs": [],
   "source": [
    "df.query('EDUCATION!=0',inplace = True)"
   ]
  },
  {
   "cell_type": "code",
   "execution_count": 16,
   "metadata": {},
   "outputs": [
    {
     "data": {
      "text/plain": [
       "(29932, 24)"
      ]
     },
     "execution_count": 16,
     "metadata": {},
     "output_type": "execute_result"
    }
   ],
   "source": [
    "df.shape"
   ]
  },
  {
   "cell_type": "code",
   "execution_count": 17,
   "metadata": {},
   "outputs": [
    {
     "data": {
      "text/plain": [
       "2    14024\n",
       "1    10581\n",
       "3     4873\n",
       "5      280\n",
       "4      123\n",
       "6       51\n",
       "Name: EDUCATION, dtype: int64"
      ]
     },
     "execution_count": 17,
     "metadata": {},
     "output_type": "execute_result"
    }
   ],
   "source": [
    "df[\"EDUCATION\"].value_counts()"
   ]
  },
  {
   "cell_type": "code",
   "execution_count": 18,
   "metadata": {},
   "outputs": [
    {
     "data": {
      "text/plain": [
       "0    0.778465\n",
       "1    0.221535\n",
       "Name: default.payment.next.month, dtype: float64"
      ]
     },
     "execution_count": 18,
     "metadata": {},
     "output_type": "execute_result"
    }
   ],
   "source": [
    "#Class Ratio\n",
    "df[\"default.payment.next.month\"].value_counts(normalize=True)"
   ]
  },
  {
   "cell_type": "code",
   "execution_count": 19,
   "metadata": {},
   "outputs": [
    {
     "data": {
      "text/html": [
       "<div>\n",
       "<style scoped>\n",
       "    .dataframe tbody tr th:only-of-type {\n",
       "        vertical-align: middle;\n",
       "    }\n",
       "\n",
       "    .dataframe tbody tr th {\n",
       "        vertical-align: top;\n",
       "    }\n",
       "\n",
       "    .dataframe thead th {\n",
       "        text-align: right;\n",
       "    }\n",
       "</style>\n",
       "<table border=\"1\" class=\"dataframe\">\n",
       "  <thead>\n",
       "    <tr style=\"text-align: right;\">\n",
       "      <th></th>\n",
       "      <th>LIMIT_BAL</th>\n",
       "      <th>SEX</th>\n",
       "      <th>EDUCATION</th>\n",
       "      <th>MARRIAGE</th>\n",
       "      <th>AGE</th>\n",
       "      <th>PAY_0</th>\n",
       "      <th>PAY_2</th>\n",
       "      <th>PAY_3</th>\n",
       "      <th>PAY_4</th>\n",
       "      <th>PAY_5</th>\n",
       "      <th>...</th>\n",
       "      <th>BILL_AMT4</th>\n",
       "      <th>BILL_AMT5</th>\n",
       "      <th>BILL_AMT6</th>\n",
       "      <th>PAY_AMT1</th>\n",
       "      <th>PAY_AMT2</th>\n",
       "      <th>PAY_AMT3</th>\n",
       "      <th>PAY_AMT4</th>\n",
       "      <th>PAY_AMT5</th>\n",
       "      <th>PAY_AMT6</th>\n",
       "      <th>default.payment.next.month</th>\n",
       "    </tr>\n",
       "  </thead>\n",
       "  <tbody>\n",
       "    <tr>\n",
       "      <th>count</th>\n",
       "      <td>29932.000000</td>\n",
       "      <td>29932.000000</td>\n",
       "      <td>29932.000000</td>\n",
       "      <td>29932.000000</td>\n",
       "      <td>29932.000000</td>\n",
       "      <td>29932.000000</td>\n",
       "      <td>29932.000000</td>\n",
       "      <td>29932.000000</td>\n",
       "      <td>29932.000000</td>\n",
       "      <td>29932.000000</td>\n",
       "      <td>...</td>\n",
       "      <td>29932.000000</td>\n",
       "      <td>29932.00000</td>\n",
       "      <td>29932.000000</td>\n",
       "      <td>29932.000000</td>\n",
       "      <td>2.993200e+04</td>\n",
       "      <td>29932.000000</td>\n",
       "      <td>29932.000000</td>\n",
       "      <td>29932.000000</td>\n",
       "      <td>29932.000000</td>\n",
       "      <td>29932.000000</td>\n",
       "    </tr>\n",
       "    <tr>\n",
       "      <th>mean</th>\n",
       "      <td>167523.375651</td>\n",
       "      <td>1.603568</td>\n",
       "      <td>1.852399</td>\n",
       "      <td>1.554590</td>\n",
       "      <td>35.479721</td>\n",
       "      <td>-0.016203</td>\n",
       "      <td>-0.133235</td>\n",
       "      <td>-0.165776</td>\n",
       "      <td>-0.220099</td>\n",
       "      <td>-0.265569</td>\n",
       "      <td>...</td>\n",
       "      <td>43320.699452</td>\n",
       "      <td>40367.54861</td>\n",
       "      <td>38927.267072</td>\n",
       "      <td>5659.603034</td>\n",
       "      <td>5.923502e+03</td>\n",
       "      <td>5226.158760</td>\n",
       "      <td>4830.180075</td>\n",
       "      <td>4805.269310</td>\n",
       "      <td>5221.906421</td>\n",
       "      <td>0.221535</td>\n",
       "    </tr>\n",
       "    <tr>\n",
       "      <th>std</th>\n",
       "      <td>129821.209970</td>\n",
       "      <td>0.489164</td>\n",
       "      <td>0.788941</td>\n",
       "      <td>0.518277</td>\n",
       "      <td>9.219044</td>\n",
       "      <td>1.123450</td>\n",
       "      <td>1.196990</td>\n",
       "      <td>1.196386</td>\n",
       "      <td>1.168849</td>\n",
       "      <td>1.133057</td>\n",
       "      <td>...</td>\n",
       "      <td>64385.857098</td>\n",
       "      <td>60845.48775</td>\n",
       "      <td>59601.231051</td>\n",
       "      <td>16555.874642</td>\n",
       "      <td>2.306020e+04</td>\n",
       "      <td>17620.773728</td>\n",
       "      <td>15680.849676</td>\n",
       "      <td>15294.066811</td>\n",
       "      <td>17795.285035</td>\n",
       "      <td>0.415287</td>\n",
       "    </tr>\n",
       "    <tr>\n",
       "      <th>min</th>\n",
       "      <td>10000.000000</td>\n",
       "      <td>1.000000</td>\n",
       "      <td>1.000000</td>\n",
       "      <td>1.000000</td>\n",
       "      <td>21.000000</td>\n",
       "      <td>-2.000000</td>\n",
       "      <td>-2.000000</td>\n",
       "      <td>-2.000000</td>\n",
       "      <td>-2.000000</td>\n",
       "      <td>-2.000000</td>\n",
       "      <td>...</td>\n",
       "      <td>-170000.000000</td>\n",
       "      <td>-81334.00000</td>\n",
       "      <td>-339603.000000</td>\n",
       "      <td>0.000000</td>\n",
       "      <td>0.000000e+00</td>\n",
       "      <td>0.000000</td>\n",
       "      <td>0.000000</td>\n",
       "      <td>0.000000</td>\n",
       "      <td>0.000000</td>\n",
       "      <td>0.000000</td>\n",
       "    </tr>\n",
       "    <tr>\n",
       "      <th>25%</th>\n",
       "      <td>50000.000000</td>\n",
       "      <td>1.000000</td>\n",
       "      <td>1.000000</td>\n",
       "      <td>1.000000</td>\n",
       "      <td>28.000000</td>\n",
       "      <td>-1.000000</td>\n",
       "      <td>-1.000000</td>\n",
       "      <td>-1.000000</td>\n",
       "      <td>-1.000000</td>\n",
       "      <td>-1.000000</td>\n",
       "      <td>...</td>\n",
       "      <td>2339.750000</td>\n",
       "      <td>1772.75000</td>\n",
       "      <td>1261.000000</td>\n",
       "      <td>1000.000000</td>\n",
       "      <td>8.360000e+02</td>\n",
       "      <td>390.000000</td>\n",
       "      <td>298.000000</td>\n",
       "      <td>255.000000</td>\n",
       "      <td>122.000000</td>\n",
       "      <td>0.000000</td>\n",
       "    </tr>\n",
       "    <tr>\n",
       "      <th>50%</th>\n",
       "      <td>140000.000000</td>\n",
       "      <td>2.000000</td>\n",
       "      <td>2.000000</td>\n",
       "      <td>2.000000</td>\n",
       "      <td>34.000000</td>\n",
       "      <td>0.000000</td>\n",
       "      <td>0.000000</td>\n",
       "      <td>0.000000</td>\n",
       "      <td>0.000000</td>\n",
       "      <td>0.000000</td>\n",
       "      <td>...</td>\n",
       "      <td>19068.500000</td>\n",
       "      <td>18125.50000</td>\n",
       "      <td>17111.500000</td>\n",
       "      <td>2100.000000</td>\n",
       "      <td>2.010000e+03</td>\n",
       "      <td>1800.000000</td>\n",
       "      <td>1500.000000</td>\n",
       "      <td>1500.000000</td>\n",
       "      <td>1500.000000</td>\n",
       "      <td>0.000000</td>\n",
       "    </tr>\n",
       "    <tr>\n",
       "      <th>75%</th>\n",
       "      <td>240000.000000</td>\n",
       "      <td>2.000000</td>\n",
       "      <td>2.000000</td>\n",
       "      <td>2.000000</td>\n",
       "      <td>41.000000</td>\n",
       "      <td>0.000000</td>\n",
       "      <td>0.000000</td>\n",
       "      <td>0.000000</td>\n",
       "      <td>0.000000</td>\n",
       "      <td>0.000000</td>\n",
       "      <td>...</td>\n",
       "      <td>54613.250000</td>\n",
       "      <td>50253.50000</td>\n",
       "      <td>49260.250000</td>\n",
       "      <td>5006.000000</td>\n",
       "      <td>5.000000e+03</td>\n",
       "      <td>4507.250000</td>\n",
       "      <td>4015.000000</td>\n",
       "      <td>4040.250000</td>\n",
       "      <td>4000.000000</td>\n",
       "      <td>0.000000</td>\n",
       "    </tr>\n",
       "    <tr>\n",
       "      <th>max</th>\n",
       "      <td>1000000.000000</td>\n",
       "      <td>2.000000</td>\n",
       "      <td>6.000000</td>\n",
       "      <td>3.000000</td>\n",
       "      <td>79.000000</td>\n",
       "      <td>8.000000</td>\n",
       "      <td>8.000000</td>\n",
       "      <td>8.000000</td>\n",
       "      <td>8.000000</td>\n",
       "      <td>8.000000</td>\n",
       "      <td>...</td>\n",
       "      <td>891586.000000</td>\n",
       "      <td>927171.00000</td>\n",
       "      <td>961664.000000</td>\n",
       "      <td>873552.000000</td>\n",
       "      <td>1.684259e+06</td>\n",
       "      <td>896040.000000</td>\n",
       "      <td>621000.000000</td>\n",
       "      <td>426529.000000</td>\n",
       "      <td>528666.000000</td>\n",
       "      <td>1.000000</td>\n",
       "    </tr>\n",
       "  </tbody>\n",
       "</table>\n",
       "<p>8 rows × 24 columns</p>\n",
       "</div>"
      ],
      "text/plain": [
       "            LIMIT_BAL           SEX     EDUCATION      MARRIAGE           AGE  \\\n",
       "count    29932.000000  29932.000000  29932.000000  29932.000000  29932.000000   \n",
       "mean    167523.375651      1.603568      1.852399      1.554590     35.479721   \n",
       "std     129821.209970      0.489164      0.788941      0.518277      9.219044   \n",
       "min      10000.000000      1.000000      1.000000      1.000000     21.000000   \n",
       "25%      50000.000000      1.000000      1.000000      1.000000     28.000000   \n",
       "50%     140000.000000      2.000000      2.000000      2.000000     34.000000   \n",
       "75%     240000.000000      2.000000      2.000000      2.000000     41.000000   \n",
       "max    1000000.000000      2.000000      6.000000      3.000000     79.000000   \n",
       "\n",
       "              PAY_0         PAY_2         PAY_3         PAY_4         PAY_5  \\\n",
       "count  29932.000000  29932.000000  29932.000000  29932.000000  29932.000000   \n",
       "mean      -0.016203     -0.133235     -0.165776     -0.220099     -0.265569   \n",
       "std        1.123450      1.196990      1.196386      1.168849      1.133057   \n",
       "min       -2.000000     -2.000000     -2.000000     -2.000000     -2.000000   \n",
       "25%       -1.000000     -1.000000     -1.000000     -1.000000     -1.000000   \n",
       "50%        0.000000      0.000000      0.000000      0.000000      0.000000   \n",
       "75%        0.000000      0.000000      0.000000      0.000000      0.000000   \n",
       "max        8.000000      8.000000      8.000000      8.000000      8.000000   \n",
       "\n",
       "       ...      BILL_AMT4     BILL_AMT5      BILL_AMT6       PAY_AMT1  \\\n",
       "count  ...   29932.000000   29932.00000   29932.000000   29932.000000   \n",
       "mean   ...   43320.699452   40367.54861   38927.267072    5659.603034   \n",
       "std    ...   64385.857098   60845.48775   59601.231051   16555.874642   \n",
       "min    ... -170000.000000  -81334.00000 -339603.000000       0.000000   \n",
       "25%    ...    2339.750000    1772.75000    1261.000000    1000.000000   \n",
       "50%    ...   19068.500000   18125.50000   17111.500000    2100.000000   \n",
       "75%    ...   54613.250000   50253.50000   49260.250000    5006.000000   \n",
       "max    ...  891586.000000  927171.00000  961664.000000  873552.000000   \n",
       "\n",
       "           PAY_AMT2       PAY_AMT3       PAY_AMT4       PAY_AMT5  \\\n",
       "count  2.993200e+04   29932.000000   29932.000000   29932.000000   \n",
       "mean   5.923502e+03    5226.158760    4830.180075    4805.269310   \n",
       "std    2.306020e+04   17620.773728   15680.849676   15294.066811   \n",
       "min    0.000000e+00       0.000000       0.000000       0.000000   \n",
       "25%    8.360000e+02     390.000000     298.000000     255.000000   \n",
       "50%    2.010000e+03    1800.000000    1500.000000    1500.000000   \n",
       "75%    5.000000e+03    4507.250000    4015.000000    4040.250000   \n",
       "max    1.684259e+06  896040.000000  621000.000000  426529.000000   \n",
       "\n",
       "            PAY_AMT6  default.payment.next.month  \n",
       "count   29932.000000                29932.000000  \n",
       "mean     5221.906421                    0.221535  \n",
       "std     17795.285035                    0.415287  \n",
       "min         0.000000                    0.000000  \n",
       "25%       122.000000                    0.000000  \n",
       "50%      1500.000000                    0.000000  \n",
       "75%      4000.000000                    0.000000  \n",
       "max    528666.000000                    1.000000  \n",
       "\n",
       "[8 rows x 24 columns]"
      ]
     },
     "execution_count": 19,
     "metadata": {},
     "output_type": "execute_result"
    }
   ],
   "source": [
    "df.describe()"
   ]
  },
  {
   "cell_type": "code",
   "execution_count": 20,
   "metadata": {},
   "outputs": [
    {
     "data": {
      "text/html": [
       "<div>\n",
       "<style scoped>\n",
       "    .dataframe tbody tr th:only-of-type {\n",
       "        vertical-align: middle;\n",
       "    }\n",
       "\n",
       "    .dataframe tbody tr th {\n",
       "        vertical-align: top;\n",
       "    }\n",
       "\n",
       "    .dataframe thead tr th {\n",
       "        text-align: left;\n",
       "    }\n",
       "\n",
       "    .dataframe thead tr:last-of-type th {\n",
       "        text-align: right;\n",
       "    }\n",
       "</style>\n",
       "<table border=\"1\" class=\"dataframe\">\n",
       "  <thead>\n",
       "    <tr>\n",
       "      <th>SEX</th>\n",
       "      <th colspan=\"6\" halign=\"left\">1</th>\n",
       "      <th colspan=\"6\" halign=\"left\">2</th>\n",
       "    </tr>\n",
       "    <tr>\n",
       "      <th>EDUCATION</th>\n",
       "      <th>1</th>\n",
       "      <th>2</th>\n",
       "      <th>3</th>\n",
       "      <th>4</th>\n",
       "      <th>5</th>\n",
       "      <th>6</th>\n",
       "      <th>1</th>\n",
       "      <th>2</th>\n",
       "      <th>3</th>\n",
       "      <th>4</th>\n",
       "      <th>5</th>\n",
       "      <th>6</th>\n",
       "    </tr>\n",
       "    <tr>\n",
       "      <th>default.payment.next.month</th>\n",
       "      <th></th>\n",
       "      <th></th>\n",
       "      <th></th>\n",
       "      <th></th>\n",
       "      <th></th>\n",
       "      <th></th>\n",
       "      <th></th>\n",
       "      <th></th>\n",
       "      <th></th>\n",
       "      <th></th>\n",
       "      <th></th>\n",
       "      <th></th>\n",
       "    </tr>\n",
       "  </thead>\n",
       "  <tbody>\n",
       "    <tr>\n",
       "      <th>0</th>\n",
       "      <td>3447</td>\n",
       "      <td>3965</td>\n",
       "      <td>1435</td>\n",
       "      <td>38</td>\n",
       "      <td>89</td>\n",
       "      <td>21</td>\n",
       "      <td>5098</td>\n",
       "      <td>6730</td>\n",
       "      <td>2205</td>\n",
       "      <td>78</td>\n",
       "      <td>173</td>\n",
       "      <td>22</td>\n",
       "    </tr>\n",
       "    <tr>\n",
       "      <th>1</th>\n",
       "      <td>906</td>\n",
       "      <td>1408</td>\n",
       "      <td>543</td>\n",
       "      <td>4</td>\n",
       "      <td>6</td>\n",
       "      <td>4</td>\n",
       "      <td>1130</td>\n",
       "      <td>1921</td>\n",
       "      <td>690</td>\n",
       "      <td>3</td>\n",
       "      <td>12</td>\n",
       "      <td>4</td>\n",
       "    </tr>\n",
       "  </tbody>\n",
       "</table>\n",
       "</div>"
      ],
      "text/plain": [
       "SEX                            1                             2              \\\n",
       "EDUCATION                      1     2     3   4   5   6     1     2     3   \n",
       "default.payment.next.month                                                   \n",
       "0                           3447  3965  1435  38  89  21  5098  6730  2205   \n",
       "1                            906  1408   543   4   6   4  1130  1921   690   \n",
       "\n",
       "SEX                                      \n",
       "EDUCATION                    4    5   6  \n",
       "default.payment.next.month               \n",
       "0                           78  173  22  \n",
       "1                            3   12   4  "
      ]
     },
     "execution_count": 20,
     "metadata": {},
     "output_type": "execute_result"
    }
   ],
   "source": [
    "pd.crosstab(index=df[\"default.payment.next.month\"],columns=[df[\"SEX\"],df[\"EDUCATION\"]])"
   ]
  },
  {
   "cell_type": "code",
   "execution_count": 21,
   "metadata": {},
   "outputs": [],
   "source": [
    "#pivot table"
   ]
  },
  {
   "cell_type": "code",
   "execution_count": 22,
   "metadata": {},
   "outputs": [],
   "source": [
    "categorical=df[[\"SEX\",\"EDUCATION\",\"MARRIAGE\"]]"
   ]
  },
  {
   "cell_type": "code",
   "execution_count": 23,
   "metadata": {},
   "outputs": [
    {
     "data": {
      "text/html": [
       "<div>\n",
       "<style scoped>\n",
       "    .dataframe tbody tr th:only-of-type {\n",
       "        vertical-align: middle;\n",
       "    }\n",
       "\n",
       "    .dataframe tbody tr th {\n",
       "        vertical-align: top;\n",
       "    }\n",
       "\n",
       "    .dataframe thead th {\n",
       "        text-align: right;\n",
       "    }\n",
       "</style>\n",
       "<table border=\"1\" class=\"dataframe\">\n",
       "  <thead>\n",
       "    <tr style=\"text-align: right;\">\n",
       "      <th></th>\n",
       "      <th>SEX</th>\n",
       "      <th>EDUCATION</th>\n",
       "      <th>MARRIAGE</th>\n",
       "    </tr>\n",
       "  </thead>\n",
       "  <tbody>\n",
       "    <tr>\n",
       "      <th>0</th>\n",
       "      <td>2</td>\n",
       "      <td>2</td>\n",
       "      <td>1</td>\n",
       "    </tr>\n",
       "    <tr>\n",
       "      <th>1</th>\n",
       "      <td>2</td>\n",
       "      <td>2</td>\n",
       "      <td>2</td>\n",
       "    </tr>\n",
       "    <tr>\n",
       "      <th>2</th>\n",
       "      <td>2</td>\n",
       "      <td>2</td>\n",
       "      <td>2</td>\n",
       "    </tr>\n",
       "    <tr>\n",
       "      <th>3</th>\n",
       "      <td>2</td>\n",
       "      <td>2</td>\n",
       "      <td>1</td>\n",
       "    </tr>\n",
       "    <tr>\n",
       "      <th>4</th>\n",
       "      <td>1</td>\n",
       "      <td>2</td>\n",
       "      <td>1</td>\n",
       "    </tr>\n",
       "  </tbody>\n",
       "</table>\n",
       "</div>"
      ],
      "text/plain": [
       "   SEX  EDUCATION  MARRIAGE\n",
       "0    2          2         1\n",
       "1    2          2         2\n",
       "2    2          2         2\n",
       "3    2          2         1\n",
       "4    1          2         1"
      ]
     },
     "execution_count": 23,
     "metadata": {},
     "output_type": "execute_result"
    }
   ],
   "source": [
    "categorical.head()"
   ]
  },
  {
   "cell_type": "code",
   "execution_count": 24,
   "metadata": {},
   "outputs": [],
   "source": [
    "from sklearn.preprocessing import OneHotEncoder"
   ]
  },
  {
   "cell_type": "code",
   "execution_count": 25,
   "metadata": {},
   "outputs": [],
   "source": [
    "enc=OneHotEncoder()"
   ]
  },
  {
   "cell_type": "code",
   "execution_count": 26,
   "metadata": {},
   "outputs": [],
   "source": [
    "cat=enc.fit_transform(categorical)"
   ]
  },
  {
   "cell_type": "code",
   "execution_count": 27,
   "metadata": {},
   "outputs": [],
   "source": [
    "one_hot=pd.DataFrame(cat.toarray())"
   ]
  },
  {
   "cell_type": "code",
   "execution_count": 28,
   "metadata": {},
   "outputs": [],
   "source": [
    "one_hot.columns=[\"Male\", \"Female\", \"GraduateSchool\", \"University\", \"HighSchool\", \"Other\",\"unknown\",\"unknown\",\"Married\", \"Single\", \"Other\"]"
   ]
  },
  {
   "cell_type": "code",
   "execution_count": 29,
   "metadata": {},
   "outputs": [
    {
     "data": {
      "text/html": [
       "<div>\n",
       "<style scoped>\n",
       "    .dataframe tbody tr th:only-of-type {\n",
       "        vertical-align: middle;\n",
       "    }\n",
       "\n",
       "    .dataframe tbody tr th {\n",
       "        vertical-align: top;\n",
       "    }\n",
       "\n",
       "    .dataframe thead th {\n",
       "        text-align: right;\n",
       "    }\n",
       "</style>\n",
       "<table border=\"1\" class=\"dataframe\">\n",
       "  <thead>\n",
       "    <tr style=\"text-align: right;\">\n",
       "      <th></th>\n",
       "      <th>Male</th>\n",
       "      <th>Female</th>\n",
       "      <th>GraduateSchool</th>\n",
       "      <th>University</th>\n",
       "      <th>HighSchool</th>\n",
       "      <th>Other</th>\n",
       "      <th>unknown</th>\n",
       "      <th>unknown</th>\n",
       "      <th>Married</th>\n",
       "      <th>Single</th>\n",
       "      <th>Other</th>\n",
       "    </tr>\n",
       "  </thead>\n",
       "  <tbody>\n",
       "    <tr>\n",
       "      <th>0</th>\n",
       "      <td>0.0</td>\n",
       "      <td>1.0</td>\n",
       "      <td>0.0</td>\n",
       "      <td>1.0</td>\n",
       "      <td>0.0</td>\n",
       "      <td>0.0</td>\n",
       "      <td>0.0</td>\n",
       "      <td>0.0</td>\n",
       "      <td>1.0</td>\n",
       "      <td>0.0</td>\n",
       "      <td>0.0</td>\n",
       "    </tr>\n",
       "    <tr>\n",
       "      <th>1</th>\n",
       "      <td>0.0</td>\n",
       "      <td>1.0</td>\n",
       "      <td>0.0</td>\n",
       "      <td>1.0</td>\n",
       "      <td>0.0</td>\n",
       "      <td>0.0</td>\n",
       "      <td>0.0</td>\n",
       "      <td>0.0</td>\n",
       "      <td>0.0</td>\n",
       "      <td>1.0</td>\n",
       "      <td>0.0</td>\n",
       "    </tr>\n",
       "    <tr>\n",
       "      <th>2</th>\n",
       "      <td>0.0</td>\n",
       "      <td>1.0</td>\n",
       "      <td>0.0</td>\n",
       "      <td>1.0</td>\n",
       "      <td>0.0</td>\n",
       "      <td>0.0</td>\n",
       "      <td>0.0</td>\n",
       "      <td>0.0</td>\n",
       "      <td>0.0</td>\n",
       "      <td>1.0</td>\n",
       "      <td>0.0</td>\n",
       "    </tr>\n",
       "    <tr>\n",
       "      <th>3</th>\n",
       "      <td>0.0</td>\n",
       "      <td>1.0</td>\n",
       "      <td>0.0</td>\n",
       "      <td>1.0</td>\n",
       "      <td>0.0</td>\n",
       "      <td>0.0</td>\n",
       "      <td>0.0</td>\n",
       "      <td>0.0</td>\n",
       "      <td>1.0</td>\n",
       "      <td>0.0</td>\n",
       "      <td>0.0</td>\n",
       "    </tr>\n",
       "    <tr>\n",
       "      <th>4</th>\n",
       "      <td>1.0</td>\n",
       "      <td>0.0</td>\n",
       "      <td>0.0</td>\n",
       "      <td>1.0</td>\n",
       "      <td>0.0</td>\n",
       "      <td>0.0</td>\n",
       "      <td>0.0</td>\n",
       "      <td>0.0</td>\n",
       "      <td>1.0</td>\n",
       "      <td>0.0</td>\n",
       "      <td>0.0</td>\n",
       "    </tr>\n",
       "  </tbody>\n",
       "</table>\n",
       "</div>"
      ],
      "text/plain": [
       "   Male  Female  GraduateSchool  University  HighSchool  Other  unknown  \\\n",
       "0   0.0     1.0             0.0         1.0         0.0    0.0      0.0   \n",
       "1   0.0     1.0             0.0         1.0         0.0    0.0      0.0   \n",
       "2   0.0     1.0             0.0         1.0         0.0    0.0      0.0   \n",
       "3   0.0     1.0             0.0         1.0         0.0    0.0      0.0   \n",
       "4   1.0     0.0             0.0         1.0         0.0    0.0      0.0   \n",
       "\n",
       "   unknown  Married  Single  Other  \n",
       "0      0.0      1.0     0.0    0.0  \n",
       "1      0.0      0.0     1.0    0.0  \n",
       "2      0.0      0.0     1.0    0.0  \n",
       "3      0.0      1.0     0.0    0.0  \n",
       "4      0.0      1.0     0.0    0.0  "
      ]
     },
     "execution_count": 29,
     "metadata": {},
     "output_type": "execute_result"
    }
   ],
   "source": [
    "one_hot.head()"
   ]
  },
  {
   "cell_type": "code",
   "execution_count": 30,
   "metadata": {},
   "outputs": [],
   "source": [
    "df.reset_index(inplace=True)"
   ]
  },
  {
   "cell_type": "code",
   "execution_count": 31,
   "metadata": {},
   "outputs": [],
   "source": [
    "new_df=pd.concat([df,one_hot],axis=1)"
   ]
  },
  {
   "cell_type": "code",
   "execution_count": 32,
   "metadata": {},
   "outputs": [
    {
     "data": {
      "text/plain": [
       "Index(['index', 'LIMIT_BAL', 'SEX', 'EDUCATION', 'MARRIAGE', 'AGE', 'PAY_0',\n",
       "       'PAY_2', 'PAY_3', 'PAY_4', 'PAY_5', 'PAY_6', 'BILL_AMT1', 'BILL_AMT2',\n",
       "       'BILL_AMT3', 'BILL_AMT4', 'BILL_AMT5', 'BILL_AMT6', 'PAY_AMT1',\n",
       "       'PAY_AMT2', 'PAY_AMT3', 'PAY_AMT4', 'PAY_AMT5', 'PAY_AMT6',\n",
       "       'default.payment.next.month', 'Male', 'Female', 'GraduateSchool',\n",
       "       'University', 'HighSchool', 'Other', 'unknown', 'unknown', 'Married',\n",
       "       'Single', 'Other'],\n",
       "      dtype='object')"
      ]
     },
     "execution_count": 32,
     "metadata": {},
     "output_type": "execute_result"
    }
   ],
   "source": [
    "new_df.columns"
   ]
  },
  {
   "cell_type": "code",
   "execution_count": 33,
   "metadata": {},
   "outputs": [],
   "source": [
    "new_df=new_df.drop([\"SEX\",\"EDUCATION\",\"MARRIAGE\"],axis=1)"
   ]
  },
  {
   "cell_type": "code",
   "execution_count": 34,
   "metadata": {},
   "outputs": [],
   "source": [
    "y=new_df[\"default.payment.next.month\"]\n",
    "x=new_df.drop([\"default.payment.next.month\"],axis=1)"
   ]
  },
  {
   "cell_type": "code",
   "execution_count": 35,
   "metadata": {},
   "outputs": [],
   "source": [
    "import matplotlib.pyplot as plt\n",
    "import seaborn as sns"
   ]
  },
  {
   "cell_type": "code",
   "execution_count": 36,
   "metadata": {},
   "outputs": [
    {
     "data": {
      "text/plain": [
       "<matplotlib.axes._subplots.AxesSubplot at 0x1cb3a0bdcc0>"
      ]
     },
     "execution_count": 36,
     "metadata": {},
     "output_type": "execute_result"
    },
    {
     "data": {
      "image/png": "[encoded data removed]",
      "text/plain": [
       "<Figure size 432x288 with 2 Axes>"
      ]
     },
     "metadata": {
      "needs_background": "light"
     },
     "output_type": "display_data"
    }
   ],
   "source": [
    "sns.heatmap(new_df.corr(),annot=True)"
   ]
  },
  {
   "cell_type": "code",
   "execution_count": 37,
   "metadata": {},
   "outputs": [],
   "source": [
    "from sklearn.model_selection import train_test_split as tts"
   ]
  },
  {
   "cell_type": "code",
   "execution_count": 44,
   "metadata": {},
   "outputs": [
    {
     "data": {
      "text/plain": [
       "(20952,)"
      ]
     },
     "execution_count": 44,
     "metadata": {},
     "output_type": "execute_result"
    }
   ],
   "source": [
    "x_train, x_test, y_train, y_test = tts(x, y, test_size=0.3, random_state=42)"
   ]
  },
  {
   "cell_type": "code",
   "execution_count": 39,
   "metadata": {},
   "outputs": [],
   "source": [
    "import keras\n",
    "from keras.models import Sequential\n",
    "from keras.layers import Dense\n",
    "import warnings\n",
    "warnings.filterwarnings(\"ignore\")"
   ]
  },
  {
   "cell_type": "code",
   "execution_count": 45,
   "metadata": {
    "scrolled": true
   },
   "outputs": [],
   "source": [
    "classifier = Sequential()\n",
    "\n",
    "## output_dim = avg of no.of nodes in i/p and o/p layer\n",
    "## init=\"uniform\"  randomly initialize the wts uniformly and make sure they are close to zero\n",
    "## input_dim = no.of variables in i/p  ---> specify this for the first hidden layer\n",
    "classifier.add(Dense(output_dim = 15,init= 'uniform',activation = 'relu', input_dim = 32))\n",
    "\n",
    "classifier.add(Dense(output_dim = 15,init= 'uniform', activation = 'relu'))\n",
    "\n",
    "## in you have 3categories for dependent variable\n",
    "## for output layer output_dim= no.of classes (i.e 3)\n",
    "## activation = \"softmax\" (softmax = sigmoid for more than two categories)\n",
    "classifier.add(Dense(output_dim = 1,init= 'uniform', activation = 'sigmoid'))"
   ]
  },
  {
   "cell_type": "code",
   "execution_count": 46,
   "metadata": {},
   "outputs": [
    {
     "name": "stdout",
     "output_type": "stream",
     "text": [
      "WARNING:tensorflow:From C:\\Users\\Ruhi\\Anaconda3_new\\lib\\site-packages\\tensorflow\\python\\ops\\math_ops.py:3066: to_int32 (from tensorflow.python.ops.math_ops) is deprecated and will be removed in a future version.\n",
      "Instructions for updating:\n",
      "Use tf.cast instead.\n",
      "Epoch 1/50\n",
      "20952/20952 [==============================] - 2s 104us/step - loss: 0.6362 - accuracy: 0.7689\n",
      "Epoch 2/50\n",
      "20952/20952 [==============================] - 2s 87us/step - loss: 0.5196 - accuracy: 0.7770\n",
      "Epoch 3/50\n",
      "20952/20952 [==============================] - 2s 111us/step - loss: 0.5159 - accuracy: 0.7770\n",
      "Epoch 4/50\n",
      "20952/20952 [==============================] - 7s 353us/step - loss: 0.5158 - accuracy: 0.7773\n",
      "Epoch 5/50\n",
      "20952/20952 [==============================] - 5s 217us/step - loss: 0.5209 - accuracy: 0.7773\n",
      "Epoch 6/50\n",
      "20952/20952 [==============================] - 2s 91us/step - loss: 0.5303 - accuracy: 0.7775\n",
      "Epoch 7/50\n",
      "20952/20952 [==============================] - 2s 107us/step - loss: 0.5300 - accuracy: 0.7775\n",
      "Epoch 8/50\n",
      "20952/20952 [==============================] - 10s 489us/step - loss: 0.5301 - accuracy: 0.7775\n",
      "Epoch 9/50\n",
      "20952/20952 [==============================] - 2s 108us/step - loss: 0.5301 - accuracy: 0.7775\n",
      "Epoch 10/50\n",
      "20952/20952 [==============================] - 3s 161us/step - loss: 0.5301 - accuracy: 0.7775\n",
      "Epoch 11/50\n",
      "20952/20952 [==============================] - 9s 422us/step - loss: 0.5301 - accuracy: 0.77750s - loss: 0.5301 - accuracy: 0.77\n",
      "Epoch 12/50\n",
      "20952/20952 [==============================] - 11s 540us/step - loss: 0.5301 - accuracy: 0.7775\n",
      "Epoch 13/50\n",
      "20952/20952 [==============================] - 15s 704us/step - loss: 0.5301 - accuracy: 0.7775s - loss: 0.5309 - accura - ETA: 6s - loss:\n",
      "Epoch 14/50\n",
      "20952/20952 [==============================] - 12s 555us/step - loss: 0.5301 - accuracy: 0.7775s - loss: 0.5287 - accuracy:  - ETA: 1s - loss: 0.5 - ETA: 1s - l\n",
      "Epoch 15/50\n",
      "20952/20952 [==============================] - 9s 451us/step - loss: 0.5301 - accuracy: 0.7775\n",
      "Epoch 16/50\n",
      "20952/20952 [==============================] - 14s 649us/step - loss: 0.5301 - accuracy: 0.7775 1\n",
      "Epoch 17/50\n",
      "20952/20952 [==============================] - 14s 683us/step - loss: 0.5301 - accuracy: 0.7775s - l - ETA - ETA: 4s - loss: 0.5323 -  - ETA: 3s - loss: 0.5298 - accuracy: 0. - ETA: 3s - loss: 0.5295 - accuracy: 0. - ETA: 3s - loss: 0.529 - ETA: 3s -\n",
      "Epoch 18/50\n",
      "20952/20952 [==============================] - 8s 389us/step - loss: 0.5302 - accuracy: 0.77740s - loss: 0.5307 - accuracy: 0.\n",
      "Epoch 19/50\n",
      "20952/20952 [==============================] - 12s 592us/step - loss: 0.5302 - accuracy: 0.7774\n",
      "Epoch 20/50\n",
      "20952/20952 [==============================] - 17s 792us/step - loss: 0.5307 - accuracy: 0.7774\n",
      "Epoch 21/50\n",
      "20952/20952 [==============================] - 6s 270us/step - loss: 0.5301 - accuracy: 0.7775\n",
      "Epoch 22/50\n",
      "20952/20952 [==============================] - 12s 550us/step - loss: 0.5301 - accuracy: 0.7775 21s - loss: 0.5054 - ac - ETA: 19s - loss: 0\n",
      "Epoch 23/50\n",
      "20952/20952 [==============================] - 15s 705us/step - loss: 0.5301 - accuracy: 0.7775\n",
      "Epoch 24/50\n",
      "20952/20952 [==============================] - 7s 319us/step - loss: 0.5301 - accuracy: 0.7775\n",
      "Epoch 25/50\n",
      "20952/20952 [==============================] - 7s 344us/step - loss: 0.5301 - accuracy: 0.7775\n",
      "Epoch 26/50\n",
      "20952/20952 [==============================] - 14s 684us/step - loss: 0.5301 - accuracy: 0.7775\n",
      "Epoch 27/50\n",
      "20952/20952 [==============================] - 13s 621us/step - loss: 0.5301 - accuracy: 0.7775\n",
      "Epoch 28/50\n",
      "20952/20952 [==============================] - 11s 543us/step - loss: 0.5301 - accuracy: 0.7775\n",
      "Epoch 29/50\n",
      "20952/20952 [==============================] - 17s 806us/step - loss: 0.5301 - accuracy: 0.7775\n",
      "Epoch 30/50\n",
      "20952/20952 [==============================] - 24s 1ms/step - loss: 0.5301 - accuracy: 0.7775- ETA: 31\n",
      "Epoch 31/50\n",
      "20952/20952 [==============================] - 19s 917us/step - loss: 0.5301 - accuracy: 0.7775s - loss: 0. - ETA: 11s - loss: 0.5393 - accuracy: 0 - ETA: 12s - loss: 0.5402 - accuracy: 0. - \n",
      "Epoch 32/50\n",
      "20952/20952 [==============================] - 13s 606us/step - loss: 0.5301 - accuracy: 0.7775\n",
      "Epoch 33/50\n",
      "20952/20952 [==============================] - 7s 345us/step - loss: 0.5301 - accuracy: 0.7775\n",
      "Epoch 34/50\n",
      "20952/20952 [==============================] - 7s 356us/step - loss: 0.5301 - accuracy: 0.7775\n",
      "Epoch 35/50\n",
      "20952/20952 [==============================] - 12s 569us/step - loss: 0.5301 - accuracy: 0.7775\n",
      "Epoch 36/50\n",
      "20952/20952 [==============================] - 7s 328us/step - loss: 0.5301 - accuracy: 0.7775\n",
      "Epoch 37/50\n",
      "20952/20952 [==============================] - 9s 421us/step - loss: 0.5301 - accuracy: 0.7775\n",
      "Epoch 38/50\n",
      "20952/20952 [==============================] - 10s 486us/step - loss: 0.5301 - accuracy: 0.7775\n",
      "Epoch 39/50\n",
      "20952/20952 [==============================] - 4s 194us/step - loss: 0.5301 - accuracy: 0.7775\n",
      "Epoch 40/50\n",
      "20952/20952 [==============================] - ETA: 0s - loss: 0.5301 - accuracy: 0.77 - 4s 173us/step - loss: 0.5301 - accuracy: 0.7775\n",
      "Epoch 41/50\n",
      "20952/20952 [==============================] - 9s 414us/step - loss: 0.5301 - accuracy: 0.7775\n",
      "Epoch 42/50\n",
      "20952/20952 [==============================] - 2s 95us/step - loss: 0.5301 - accuracy: 0.7775\n",
      "Epoch 43/50\n",
      "20952/20952 [==============================] - 6s 266us/step - loss: 0.5301 - accuracy: 0.7775\n",
      "Epoch 44/50\n",
      "20952/20952 [==============================] - 14s 660us/step - loss: 0.5301 - accuracy: 0.7775\n",
      "Epoch 45/50\n",
      "20952/20952 [==============================] - 3s 131us/step - loss: 0.5301 - accuracy: 0.7775\n",
      "Epoch 46/50\n",
      "20952/20952 [==============================] - 11s 514us/step - loss: 0.5301 - accuracy: 0.7775\n",
      "Epoch 47/50\n",
      "20952/20952 [==============================] - 3s 139us/step - loss: 0.5301 - accuracy: 0.7775\n",
      "Epoch 48/50\n",
      "20952/20952 [==============================] - 11s 534us/step - loss: 0.5301 - accuracy: 0.7775\n",
      "Epoch 49/50\n",
      "20952/20952 [==============================] - 3s 154us/step - loss: 0.5301 - accuracy: 0.7775\n",
      "Epoch 50/50\n",
      "20952/20952 [==============================] - 3s 135us/step - loss: 0.5301 - accuracy: 0.7775\n"
     ]
    },
    {
     "data": {
      "text/plain": [
       "<keras.callbacks.callbacks.History at 0x1cb3ce850b8>"
      ]
     },
     "execution_count": 46,
     "metadata": {},
     "output_type": "execute_result"
    }
   ],
   "source": [
    "## Loss function for adam optimizer, when more than two categories in dependent variable is\n",
    "## loss = 'categorical_crossentropy'\n",
    "classifier.compile(optimizer = 'adam', loss = 'binary_crossentropy', metrics = ['accuracy'])\n",
    "\n",
    "classifier.fit(x_train, y_train, batch_size = 10, epochs = 50)"
   ]
  },
  {
   "cell_type": "code",
   "execution_count": 50,
   "metadata": {},
   "outputs": [],
   "source": [
    "y_pred = classifier.predict(x_test)"
   ]
  },
  {
   "cell_type": "code",
   "execution_count": 51,
   "metadata": {},
   "outputs": [
    {
     "data": {
      "text/plain": [
       "array([[0.22109419],\n",
       "       [0.22109419],\n",
       "       [0.22109419],\n",
       "       ...,\n",
       "       [0.22109416],\n",
       "       [0.22109416],\n",
       "       [0.22109416]], dtype=float32)"
      ]
     },
     "execution_count": 51,
     "metadata": {},
     "output_type": "execute_result"
    }
   ],
   "source": [
    "y_pred"
   ]
  },
  {
   "cell_type": "code",
   "execution_count": null,
   "metadata": {},
   "outputs": [],
   "source": []
  }
 ],
 "metadata": {
  "kernelspec": {
   "display_name": "Python 3",
   "language": "python",
   "name": "python3"
  },
  "language_info": {
   "codemirror_mode": {
    "name": "ipython",
    "version": 3
   },
   "file_extension": ".py",
   "mimetype": "text/x-python",
   "name": "python",
   "nbconvert_exporter": "python",
   "pygments_lexer": "ipython3",
   "version": "3.7.3"
  }
 },
 "nbformat": 4,
 "nbformat_minor": 2
}
