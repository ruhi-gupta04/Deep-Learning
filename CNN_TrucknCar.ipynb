{
  "nbformat": 4,
  "nbformat_minor": 0,
  "metadata": {
    "colab": {
      "name": "CNN_TrucknCar.ipynb",
      "provenance": [],
      "collapsed_sections": []
    },
    "kernelspec": {
      "name": "python3",
      "display_name": "Python 3"
    },
    "accelerator": "GPU"
  },
  "cells": [
    {
      "cell_type": "code",
      "metadata": {
        "id": "-Rd3SsmHm7Ll",
        "colab_type": "code",
        "colab": {}
      },
      "source": [
        "# Part 1 - Building the CNN\n",
        "# Importing the Keras libraries and packages\n",
        "from keras.models import Sequential\n",
        "from keras.layers import Conv2D\n",
        "from keras.layers import MaxPooling2D\n",
        "from keras.layers import Flatten\n",
        "from keras.layers import Dense\n",
        "from keras.layers import Dropout"
      ],
      "execution_count": 0,
      "outputs": []
    },
    {
      "cell_type": "code",
      "metadata": {
        "id": "mw3SqmYorgHJ",
        "colab_type": "code",
        "colab": {
          "base_uri": "https://localhost:8080/",
          "height": 34
        },
        "outputId": "2e6cc542-72ab-4087-ffd8-1c93f2c3d955"
      },
      "source": [
        "from google.colab import drive\n",
        "drive.mount('/content/drive')"
      ],
      "execution_count": 13,
      "outputs": [
        {
          "output_type": "stream",
          "text": [
            "Drive already mounted at /content/drive; to attempt to forcibly remount, call drive.mount(\"/content/drive\", force_remount=True).\n"
          ],
          "name": "stdout"
        }
      ]
    },
    {
      "cell_type": "code",
      "metadata": {
        "id": "dGWGWXNfnCk_",
        "colab_type": "code",
        "colab": {}
      },
      "source": [
        "# Initialising the CNN\n",
        "classifier = Sequential()"
      ],
      "execution_count": 0,
      "outputs": []
    },
    {
      "cell_type": "code",
      "metadata": {
        "id": "LRElKbaznCnz",
        "colab_type": "code",
        "colab": {}
      },
      "source": [
        "# Step 1 - Convolution\n",
        "classifier.add(Conv2D(32, (3, 3), input_shape = (64, 64, 3), activation = 'relu'))\n",
        "\n",
        "# Step 2 - Pooling\n",
        "classifier.add(MaxPooling2D(pool_size = (2, 2)))\n"
      ],
      "execution_count": 0,
      "outputs": []
    },
    {
      "cell_type": "code",
      "metadata": {
        "id": "Jfjlpt76nCqt",
        "colab_type": "code",
        "colab": {
          "base_uri": "https://localhost:8080/",
          "height": 154
        },
        "outputId": "3110953a-4976-4965-9e8e-5bd461294a0a"
      },
      "source": [
        "# Adding a second convolutional layer\n",
        "classifier.add(Conv2D(32, (3, 3), activation = 'relu'))\n",
        "classifier.add(MaxPooling2D(pool_size = (2, 2)))\n",
        "classifier.add(Dropout(p=0.2))"
      ],
      "execution_count": 21,
      "outputs": [
        {
          "output_type": "stream",
          "text": [
            "WARNING:tensorflow:From /usr/local/lib/python3.6/dist-packages/keras/backend/tensorflow_backend.py:148: The name tf.placeholder_with_default is deprecated. Please use tf.compat.v1.placeholder_with_default instead.\n",
            "\n",
            "WARNING:tensorflow:From /usr/local/lib/python3.6/dist-packages/keras/backend/tensorflow_backend.py:3733: calling dropout (from tensorflow.python.ops.nn_ops) with keep_prob is deprecated and will be removed in a future version.\n",
            "Instructions for updating:\n",
            "Please use `rate` instead of `keep_prob`. Rate should be set to `rate = 1 - keep_prob`.\n"
          ],
          "name": "stdout"
        },
        {
          "output_type": "stream",
          "text": [
            "/usr/local/lib/python3.6/dist-packages/ipykernel_launcher.py:3: UserWarning: Update your `Dropout` call to the Keras 2 API: `Dropout(rate=0.2)`\n",
            "  This is separate from the ipykernel package so we can avoid doing imports until\n"
          ],
          "name": "stderr"
        }
      ]
    },
    {
      "cell_type": "code",
      "metadata": {
        "id": "2IBULfLLnCtQ",
        "colab_type": "code",
        "colab": {}
      },
      "source": [
        "# Step 3 - Flattening\n",
        "classifier.add(Flatten())"
      ],
      "execution_count": 0,
      "outputs": []
    },
    {
      "cell_type": "code",
      "metadata": {
        "id": "Zv3mNwMgnCvs",
        "colab_type": "code",
        "colab": {}
      },
      "source": [
        "# Step 4 - Full connection\n",
        "classifier.add(Dense(units = 128, activation = 'relu'))\n",
        "classifier.add(Dense(units = 1, activation = 'sigmoid'))"
      ],
      "execution_count": 0,
      "outputs": []
    },
    {
      "cell_type": "code",
      "metadata": {
        "id": "HdKBcwpPnCyT",
        "colab_type": "code",
        "colab": {}
      },
      "source": [
        "# Compiling the CNN\n",
        "classifier.compile(optimizer = 'adam', loss = 'binary_crossentropy', metrics = ['accuracy'])"
      ],
      "execution_count": 0,
      "outputs": []
    },
    {
      "cell_type": "code",
      "metadata": {
        "id": "HvWRYsBUnC0c",
        "colab_type": "code",
        "colab": {}
      },
      "source": [
        "# Part 2 - Fitting the CNN to the images\n",
        "\n",
        "from keras.preprocessing.image import ImageDataGenerator\n",
        "\n",
        "train_datagen = ImageDataGenerator(rescale = 1./255,\n",
        "                                   shear_range = 0.2,\n",
        "                                   zoom_range = 0.2,\n",
        "                                   horizontal_flip = True)\n",
        "\n",
        "test_datagen = ImageDataGenerator(rescale = 1./255)"
      ],
      "execution_count": 0,
      "outputs": []
    },
    {
      "cell_type": "code",
      "metadata": {
        "id": "tntnDfpFnC3A",
        "colab_type": "code",
        "colab": {
          "base_uri": "https://localhost:8080/",
          "height": 50
        },
        "outputId": "16ad0c0f-5e6d-4da0-cfaa-fdbefe4ea6c1"
      },
      "source": [
        "training_set = train_datagen.flow_from_directory('/content/drive/My Drive/Training',\n",
        "                                                 target_size = (64, 64),\n",
        "                                                 batch_size = 32,\n",
        "                                                 class_mode = 'binary')\n",
        "\n",
        "test_set = test_datagen.flow_from_directory('/content/drive/My Drive/Testing',\n",
        "                                            target_size = (64, 64),\n",
        "                                            batch_size = 32,\n",
        "                                            class_mode = 'binary')"
      ],
      "execution_count": 26,
      "outputs": [
        {
          "output_type": "stream",
          "text": [
            "Found 592 images belonging to 2 classes.\n",
            "Found 196 images belonging to 2 classes.\n"
          ],
          "name": "stdout"
        }
      ]
    },
    {
      "cell_type": "code",
      "metadata": {
        "id": "TMkUyEo9ncKd",
        "colab_type": "code",
        "colab": {
          "base_uri": "https://localhost:8080/",
          "height": 874
        },
        "outputId": "07942082-035b-4db7-ec48-5fe71c00ef7b"
      },
      "source": [
        "classifier.fit_generator(training_set,\n",
        "                         steps_per_epoch = 592,\n",
        "                         epochs = 25,\n",
        "                         validation_data = test_set,\n",
        "                         validation_steps = 196)"
      ],
      "execution_count": 27,
      "outputs": [
        {
          "output_type": "stream",
          "text": [
            "Epoch 1/25\n",
            "592/592 [==============================] - 126s 213ms/step - loss: 0.4698 - acc: 0.7566 - val_loss: 0.8532 - val_acc: 0.6378\n",
            "Epoch 2/25\n",
            "592/592 [==============================] - 124s 210ms/step - loss: 0.1194 - acc: 0.9552 - val_loss: 1.4358 - val_acc: 0.6888\n",
            "Epoch 3/25\n",
            "592/592 [==============================] - 125s 212ms/step - loss: 0.0452 - acc: 0.9859 - val_loss: 1.6809 - val_acc: 0.6531\n",
            "Epoch 4/25\n",
            "592/592 [==============================] - 125s 211ms/step - loss: 0.0240 - acc: 0.9931 - val_loss: 1.6870 - val_acc: 0.6735\n",
            "Epoch 5/25\n",
            "592/592 [==============================] - 125s 211ms/step - loss: 0.0156 - acc: 0.9950 - val_loss: 2.1920 - val_acc: 0.6429\n",
            "Epoch 6/25\n",
            "592/592 [==============================] - 125s 211ms/step - loss: 0.0163 - acc: 0.9950 - val_loss: 1.8826 - val_acc: 0.6837\n",
            "Epoch 7/25\n",
            "592/592 [==============================] - 126s 212ms/step - loss: 0.0140 - acc: 0.9956 - val_loss: 2.0678 - val_acc: 0.6888\n",
            "Epoch 8/25\n",
            "592/592 [==============================] - 125s 211ms/step - loss: 0.0123 - acc: 0.9961 - val_loss: 1.8110 - val_acc: 0.6837\n",
            "Epoch 9/25\n",
            "592/592 [==============================] - 124s 210ms/step - loss: 0.0069 - acc: 0.9976 - val_loss: 2.6362 - val_acc: 0.6429\n",
            "Epoch 10/25\n",
            "592/592 [==============================] - 124s 209ms/step - loss: 0.0127 - acc: 0.9957 - val_loss: 2.2238 - val_acc: 0.6786\n",
            "Epoch 11/25\n",
            "592/592 [==============================] - 124s 210ms/step - loss: 0.0075 - acc: 0.9975 - val_loss: 2.1893 - val_acc: 0.6378\n",
            "Epoch 12/25\n",
            "592/592 [==============================] - 124s 210ms/step - loss: 0.0067 - acc: 0.9976 - val_loss: 2.3785 - val_acc: 0.6327\n",
            "Epoch 13/25\n",
            "592/592 [==============================] - 127s 214ms/step - loss: 0.0084 - acc: 0.9971 - val_loss: 2.6260 - val_acc: 0.6429\n",
            "Epoch 14/25\n",
            "592/592 [==============================] - 124s 210ms/step - loss: 0.0033 - acc: 0.9992 - val_loss: 2.4870 - val_acc: 0.6684\n",
            "Epoch 15/25\n",
            "592/592 [==============================] - 125s 210ms/step - loss: 0.0104 - acc: 0.9964 - val_loss: 2.5946 - val_acc: 0.6327\n",
            "Epoch 16/25\n",
            "592/592 [==============================] - 124s 210ms/step - loss: 0.0107 - acc: 0.9968 - val_loss: 2.4574 - val_acc: 0.6327\n",
            "Epoch 17/25\n",
            "592/592 [==============================] - 124s 209ms/step - loss: 0.0072 - acc: 0.9976 - val_loss: 2.6720 - val_acc: 0.6327\n",
            "Epoch 18/25\n",
            "592/592 [==============================] - 125s 211ms/step - loss: 0.0026 - acc: 0.9990 - val_loss: 2.3702 - val_acc: 0.6531\n",
            "Epoch 19/25\n",
            "592/592 [==============================] - 126s 212ms/step - loss: 0.0053 - acc: 0.9980 - val_loss: 2.7886 - val_acc: 0.6582\n",
            "Epoch 20/25\n",
            "592/592 [==============================] - 124s 210ms/step - loss: 0.0084 - acc: 0.9979 - val_loss: 2.2875 - val_acc: 0.6480\n",
            "Epoch 21/25\n",
            "592/592 [==============================] - 124s 210ms/step - loss: 0.0089 - acc: 0.9972 - val_loss: 2.6281 - val_acc: 0.6429\n",
            "Epoch 22/25\n",
            "592/592 [==============================] - 124s 210ms/step - loss: 0.0031 - acc: 0.9990 - val_loss: 2.6323 - val_acc: 0.6837\n",
            "Epoch 23/25\n",
            "592/592 [==============================] - 124s 210ms/step - loss: 0.0057 - acc: 0.9981 - val_loss: 3.0268 - val_acc: 0.6480\n",
            "Epoch 24/25\n",
            "592/592 [==============================] - 124s 209ms/step - loss: 0.0081 - acc: 0.9981 - val_loss: 2.4852 - val_acc: 0.6429\n",
            "Epoch 25/25\n",
            "592/592 [==============================] - 125s 211ms/step - loss: 0.0070 - acc: 0.9979 - val_loss: 2.4788 - val_acc: 0.6837\n"
          ],
          "name": "stdout"
        },
        {
          "output_type": "execute_result",
          "data": {
            "text/plain": [
              "<keras.callbacks.History at 0x7fd149a4b080>"
            ]
          },
          "metadata": {
            "tags": []
          },
          "execution_count": 27
        }
      ]
    },
    {
      "cell_type": "code",
      "metadata": {
        "id": "YkekzQPGrwSk",
        "colab_type": "code",
        "colab": {}
      },
      "source": [
        " "
      ],
      "execution_count": 0,
      "outputs": []
    }
  ]
}